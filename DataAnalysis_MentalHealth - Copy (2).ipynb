{
 "cells": [
  {
   "cell_type": "markdown",
   "source": [
    "# Data Analysis of Mental Health in the Tech Industry"
   ],
   "metadata": {
    "collapsed": false
   }
  },
  {
   "cell_type": "code",
   "execution_count": 1,
   "metadata": {
    "ExecuteTime": {
     "end_time": "2023-07-26T10:52:21.237436300Z",
     "start_time": "2023-07-26T10:52:20.684540600Z"
    }
   },
   "outputs": [
    {
     "name": "stdout",
     "output_type": "stream",
     "text": [
      "CURRENT DIRECTORY:\n",
      ". = \"G:\\My Drive\\Codes\\.Projects\\DS\\Turing\\2 Data Analysis\\S1\\Project\"\n",
      "\n",
      ".\n",
      ".\\215.ipynb\n",
      ".\\.gitignore\n",
      ".\\LICENSE\n",
      ".\\README.md\n",
      ".\\DataAnalysis_MentalHealth.ipynb\n",
      ".\\requirements.txt\n",
      ".\\DataAnalysis_MentalHealth - Copy.ipynb\n",
      "\n",
      ".\\processes\n",
      ".\\processes\\preparation.py\n",
      ".\\processes\\transformation.py\n",
      ".\\processes\\visualization.py\n",
      ".\\processes\\modeling.py\n",
      ".\\processes\\cleaning.py\n",
      "\n",
      ".\\processes\\__pycache__\n",
      ".\\processes\\__pycache__\\preparation.cpython-311.pyc\n",
      ".\\processes\\__pycache__\\transformation.cpython-311.pyc\n",
      ".\\processes\\__pycache__\\cleaning.cpython-311.pyc\n",
      ".\\processes\\__pycache__\\visualization.cpython-311.pyc\n",
      ".\\processes\\__pycache__\\modeling.cpython-311.pyc\n",
      "\n",
      ".\\processes\\tools\n",
      ".\\processes\\tools\\modify_cls.py\n",
      "\n",
      ".\\processes\\tools\\__pycache__\n",
      ".\\processes\\tools\\__pycache__\\modify_cls.cpython-311.pyc\n",
      "\n",
      ".\\data\n",
      ".\\data\\mental_health.sqlite\n"
     ]
    }
   ],
   "source": [
    "# COVID-19 KOREA DATA ANALYSIS\n",
    "# ----------------------------------------------------------------------------------------------------------------\n",
    "\n",
    "\n",
    "# INITIATION ------------\n",
    "\n",
    "# System information\n",
    "import os\n",
    "\n",
    "# Data preparation\n",
    "import pandas as pd\n",
    "\n",
    "# Data visualization\n",
    "import matplotlib.pyplot as plt\n",
    "from mpl_toolkits.mplot3d import Axes3D\n",
    "import skimage as ski\n",
    "import seaborn as sns\n",
    "\n",
    "# Data transformation & algorithms\n",
    "import numpy as np\n",
    "import scipy as sp\n",
    "import sqlite3 as sql\n",
    "\n",
    "# Data modeling\n",
    "import sklearn as sk\n",
    "\n",
    "# Miscellaneous\n",
    "import math\n",
    "from tabulate import tabulate\n",
    "from processes import \\\n",
    "    preparation, \\\n",
    "    transformation, \\\n",
    "    cleaning, \\\n",
    "    visualization, \\\n",
    "    modeling\n",
    "\n",
    "print(\n",
    "    'CURRENT DIRECTORY:\\n'\n",
    "    '. = \\\"', os.getcwd(), '\\\"', sep=''\n",
    ")\n",
    "\n",
    "for dirName, _, filenames in os.walk('.'):\n",
    "    if dirName[2:3] != '.':\n",
    "        print('\\n', dirName, sep='')\n",
    "        for filename in filenames:\n",
    "            print(os.path.join(dirName, filename))\n"
   ]
  },
  {
   "cell_type": "markdown",
   "source": [
    "## Familiarization with the Data\n",
    "\n",
    "I will use the pandas library to load the data into a DataFrame and explore its shape, columns, and summary\n",
    "statistics. This will help us identify any potential issues with the data quality, such as missing values, outliers, or incorrect formats. We will also visualize some key variables using matplotlib and seaborn to gain insights into the distribution and relationships of the data.\n"
   ],
   "metadata": {
    "collapsed": false
   }
  },
  {
   "cell_type": "code",
   "execution_count": 2,
   "outputs": [
    {
     "data": {
      "text/plain": "  AnswerText  SurveyID  UserID  QuestionID\n0         37      2014       1           1\n1         44      2014       2           1\n2         32      2014       3           1\n3         31      2014       4           1\n4         31      2014       5           1\n5         33      2014       6           1\n6         35      2014       7           1\n7         39      2014       8           1\n8         42      2014       9           1\n9         23      2014      10           1",
      "text/html": "<div>\n<style scoped>\n    .dataframe tbody tr th:only-of-type {\n        vertical-align: middle;\n    }\n\n    .dataframe tbody tr th {\n        vertical-align: top;\n    }\n\n    .dataframe thead th {\n        text-align: right;\n    }\n</style>\n<table border=\"1\" class=\"dataframe\">\n  <thead>\n    <tr style=\"text-align: right;\">\n      <th></th>\n      <th>AnswerText</th>\n      <th>SurveyID</th>\n      <th>UserID</th>\n      <th>QuestionID</th>\n    </tr>\n  </thead>\n  <tbody>\n    <tr>\n      <th>0</th>\n      <td>37</td>\n      <td>2014</td>\n      <td>1</td>\n      <td>1</td>\n    </tr>\n    <tr>\n      <th>1</th>\n      <td>44</td>\n      <td>2014</td>\n      <td>2</td>\n      <td>1</td>\n    </tr>\n    <tr>\n      <th>2</th>\n      <td>32</td>\n      <td>2014</td>\n      <td>3</td>\n      <td>1</td>\n    </tr>\n    <tr>\n      <th>3</th>\n      <td>31</td>\n      <td>2014</td>\n      <td>4</td>\n      <td>1</td>\n    </tr>\n    <tr>\n      <th>4</th>\n      <td>31</td>\n      <td>2014</td>\n      <td>5</td>\n      <td>1</td>\n    </tr>\n    <tr>\n      <th>5</th>\n      <td>33</td>\n      <td>2014</td>\n      <td>6</td>\n      <td>1</td>\n    </tr>\n    <tr>\n      <th>6</th>\n      <td>35</td>\n      <td>2014</td>\n      <td>7</td>\n      <td>1</td>\n    </tr>\n    <tr>\n      <th>7</th>\n      <td>39</td>\n      <td>2014</td>\n      <td>8</td>\n      <td>1</td>\n    </tr>\n    <tr>\n      <th>8</th>\n      <td>42</td>\n      <td>2014</td>\n      <td>9</td>\n      <td>1</td>\n    </tr>\n    <tr>\n      <th>9</th>\n      <td>23</td>\n      <td>2014</td>\n      <td>10</td>\n      <td>1</td>\n    </tr>\n  </tbody>\n</table>\n</div>"
     },
     "execution_count": 2,
     "metadata": {},
     "output_type": "execute_result"
    }
   ],
   "source": [
    "# EXECUTION -------------\n",
    "\n",
    "# Display plots directly in the notebook interface\n",
    "%matplotlib inline\n",
    "\n",
    "# Connect to database\n",
    "con = sql.connect('./data/mental_health.sqlite')\n",
    "\n",
    "# Convert Answer into dataframe\n",
    "Answer = pd.read_sql('SELECT * FROM Answer', con)\n",
    "\n",
    "# First 10 observations\n",
    "Answer.head(10)\n"
   ],
   "metadata": {
    "collapsed": false,
    "ExecuteTime": {
     "end_time": "2023-07-26T10:52:21.937629Z",
     "start_time": "2023-07-26T10:52:21.239445500Z"
    }
   }
  },
  {
   "cell_type": "code",
   "execution_count": 3,
   "outputs": [
    {
     "data": {
      "text/plain": "                                        questiontext  questionid\n0                                  What is your age?           1\n1                               What is your gender?           2\n2                       What country do you live in?           3\n3  If you live in the United States, which state ...           4\n4                             Are you self-employed?           5\n5    Do you have a family history of mental illness?           6\n6  Have you ever sought treatment for a mental he...           7\n7  How many employees does your company or organi...           8\n8  Is your employer primarily a tech company/orga...           9\n9  Does your employer provide mental health benef...          10",
      "text/html": "<div>\n<style scoped>\n    .dataframe tbody tr th:only-of-type {\n        vertical-align: middle;\n    }\n\n    .dataframe tbody tr th {\n        vertical-align: top;\n    }\n\n    .dataframe thead th {\n        text-align: right;\n    }\n</style>\n<table border=\"1\" class=\"dataframe\">\n  <thead>\n    <tr style=\"text-align: right;\">\n      <th></th>\n      <th>questiontext</th>\n      <th>questionid</th>\n    </tr>\n  </thead>\n  <tbody>\n    <tr>\n      <th>0</th>\n      <td>What is your age?</td>\n      <td>1</td>\n    </tr>\n    <tr>\n      <th>1</th>\n      <td>What is your gender?</td>\n      <td>2</td>\n    </tr>\n    <tr>\n      <th>2</th>\n      <td>What country do you live in?</td>\n      <td>3</td>\n    </tr>\n    <tr>\n      <th>3</th>\n      <td>If you live in the United States, which state ...</td>\n      <td>4</td>\n    </tr>\n    <tr>\n      <th>4</th>\n      <td>Are you self-employed?</td>\n      <td>5</td>\n    </tr>\n    <tr>\n      <th>5</th>\n      <td>Do you have a family history of mental illness?</td>\n      <td>6</td>\n    </tr>\n    <tr>\n      <th>6</th>\n      <td>Have you ever sought treatment for a mental he...</td>\n      <td>7</td>\n    </tr>\n    <tr>\n      <th>7</th>\n      <td>How many employees does your company or organi...</td>\n      <td>8</td>\n    </tr>\n    <tr>\n      <th>8</th>\n      <td>Is your employer primarily a tech company/orga...</td>\n      <td>9</td>\n    </tr>\n    <tr>\n      <th>9</th>\n      <td>Does your employer provide mental health benef...</td>\n      <td>10</td>\n    </tr>\n  </tbody>\n</table>\n</div>"
     },
     "execution_count": 3,
     "metadata": {},
     "output_type": "execute_result"
    }
   ],
   "source": [
    "# Convert Question into dataframe\n",
    "Question = pd.read_sql('SELECT * FROM Question', con)\n",
    "\n",
    "# First 10 observations\n",
    "Question.head(10)\n"
   ],
   "metadata": {
    "collapsed": false,
    "ExecuteTime": {
     "end_time": "2023-07-26T10:52:21.953154500Z",
     "start_time": "2023-07-26T10:52:21.938519600Z"
    }
   }
  },
  {
   "cell_type": "code",
   "execution_count": 4,
   "outputs": [
    {
     "data": {
      "text/plain": "   SurveyID                    Description\n0      2014  mental health survey for 2014\n1      2016  mental health survey for 2016\n2      2017  mental health survey for 2017\n3      2018  mental health survey for 2018\n4      2019  mental health survey for 2019",
      "text/html": "<div>\n<style scoped>\n    .dataframe tbody tr th:only-of-type {\n        vertical-align: middle;\n    }\n\n    .dataframe tbody tr th {\n        vertical-align: top;\n    }\n\n    .dataframe thead th {\n        text-align: right;\n    }\n</style>\n<table border=\"1\" class=\"dataframe\">\n  <thead>\n    <tr style=\"text-align: right;\">\n      <th></th>\n      <th>SurveyID</th>\n      <th>Description</th>\n    </tr>\n  </thead>\n  <tbody>\n    <tr>\n      <th>0</th>\n      <td>2014</td>\n      <td>mental health survey for 2014</td>\n    </tr>\n    <tr>\n      <th>1</th>\n      <td>2016</td>\n      <td>mental health survey for 2016</td>\n    </tr>\n    <tr>\n      <th>2</th>\n      <td>2017</td>\n      <td>mental health survey for 2017</td>\n    </tr>\n    <tr>\n      <th>3</th>\n      <td>2018</td>\n      <td>mental health survey for 2018</td>\n    </tr>\n    <tr>\n      <th>4</th>\n      <td>2019</td>\n      <td>mental health survey for 2019</td>\n    </tr>\n  </tbody>\n</table>\n</div>"
     },
     "execution_count": 4,
     "metadata": {},
     "output_type": "execute_result"
    }
   ],
   "source": [
    "# Convert dataset into dataframe\n",
    "Survey = pd.read_sql('SELECT * FROM Survey', con)\n",
    "\n",
    "# First observations\n",
    "Survey\n"
   ],
   "metadata": {
    "collapsed": false,
    "ExecuteTime": {
     "end_time": "2023-07-26T10:52:21.968270900Z",
     "start_time": "2023-07-26T10:52:21.956153200Z"
    }
   }
  },
  {
   "cell_type": "markdown",
   "source": [
    "### Improving Readability\n",
    "One of the steps in data analysis is to improve the readability and format of the dataset.\n",
    "\n",
    "For the numerical data, I will assign the 'date & time' columns with `datetime` data type for further effective data\n",
    "manipulation.\n",
    "Furthermore, for the categorical data, I will standardize several of these columns when they can be\n",
    "considered to be (at least) ordinal variables.\n",
    "\n",
    "By improving the readability and format of the dataset, we can enhance the quality and clarity of the data analysis. We can also save time and space when performing operations on the data.\n"
   ],
   "metadata": {
    "collapsed": false
   }
  },
  {
   "cell_type": "code",
   "execution_count": 5,
   "outputs": [
    {
     "name": "stdout",
     "output_type": "stream",
     "text": [
      "# Categorical data are simplified and reformatted\n",
      "# Numerical values for appropriate levels are assigned.\n"
     ]
    }
   ],
   "source": [
    "# Improve Dataset's Readability & Reformat Numerical & Categorical Data\n",
    "Survey['Description'] = 'Mental Health Survey for ' + Survey['SurveyID'].astype(str).str[:]\n",
    "Question.rename(columns={'questiontext': 'QuestionText', 'questionid': 'QuestionID'}, inplace=True)\n",
    "\n",
    "\n",
    "print('# Categorical data are simplified and reformatted')\n",
    "print('# Numerical values for appropriate levels are assigned.')\n"
   ],
   "metadata": {
    "collapsed": false,
    "ExecuteTime": {
     "end_time": "2023-07-26T10:52:22.032438Z",
     "start_time": "2023-07-26T10:52:21.971588300Z"
    }
   }
  },
  {
   "cell_type": "code",
   "execution_count": 6,
   "outputs": [
    {
     "name": "stdout",
     "output_type": "stream",
     "text": [
      "Number of Observations: 236898; \n",
      "Number of Features: 4.\n",
      "- Categorical features: AnswerText; \n",
      "- Numerical features: SurveyID, UserID, QuestionID.\n"
     ]
    },
    {
     "data": {
      "text/plain": "  AnswerText  SurveyID  UserID  QuestionID\n0         37      2014       1           1\n1         44      2014       2           1\n2         32      2014       3           1\n3         31      2014       4           1\n4         31      2014       5           1\n5         33      2014       6           1\n6         35      2014       7           1\n7         39      2014       8           1\n8         42      2014       9           1\n9         23      2014      10           1",
      "text/html": "<div>\n<style scoped>\n    .dataframe tbody tr th:only-of-type {\n        vertical-align: middle;\n    }\n\n    .dataframe tbody tr th {\n        vertical-align: top;\n    }\n\n    .dataframe thead th {\n        text-align: right;\n    }\n</style>\n<table border=\"1\" class=\"dataframe\">\n  <thead>\n    <tr style=\"text-align: right;\">\n      <th></th>\n      <th>AnswerText</th>\n      <th>SurveyID</th>\n      <th>UserID</th>\n      <th>QuestionID</th>\n    </tr>\n  </thead>\n  <tbody>\n    <tr>\n      <th>0</th>\n      <td>37</td>\n      <td>2014</td>\n      <td>1</td>\n      <td>1</td>\n    </tr>\n    <tr>\n      <th>1</th>\n      <td>44</td>\n      <td>2014</td>\n      <td>2</td>\n      <td>1</td>\n    </tr>\n    <tr>\n      <th>2</th>\n      <td>32</td>\n      <td>2014</td>\n      <td>3</td>\n      <td>1</td>\n    </tr>\n    <tr>\n      <th>3</th>\n      <td>31</td>\n      <td>2014</td>\n      <td>4</td>\n      <td>1</td>\n    </tr>\n    <tr>\n      <th>4</th>\n      <td>31</td>\n      <td>2014</td>\n      <td>5</td>\n      <td>1</td>\n    </tr>\n    <tr>\n      <th>5</th>\n      <td>33</td>\n      <td>2014</td>\n      <td>6</td>\n      <td>1</td>\n    </tr>\n    <tr>\n      <th>6</th>\n      <td>35</td>\n      <td>2014</td>\n      <td>7</td>\n      <td>1</td>\n    </tr>\n    <tr>\n      <th>7</th>\n      <td>39</td>\n      <td>2014</td>\n      <td>8</td>\n      <td>1</td>\n    </tr>\n    <tr>\n      <th>8</th>\n      <td>42</td>\n      <td>2014</td>\n      <td>9</td>\n      <td>1</td>\n    </tr>\n    <tr>\n      <th>9</th>\n      <td>23</td>\n      <td>2014</td>\n      <td>10</td>\n      <td>1</td>\n    </tr>\n  </tbody>\n</table>\n</div>"
     },
     "execution_count": 6,
     "metadata": {},
     "output_type": "execute_result"
    }
   ],
   "source": [
    "Answer.update_cols()\n",
    "Answer.recap()\n"
   ],
   "metadata": {
    "collapsed": false,
    "ExecuteTime": {
     "end_time": "2023-07-26T10:52:22.148914300Z",
     "start_time": "2023-07-26T10:52:21.979687400Z"
    }
   }
  },
  {
   "cell_type": "markdown",
   "metadata": {},
   "source": [
    "## Data Cleaning\n",
    "Before analyzing the Coursera dataset, some data cleaning steps will be performed to ensure the quality and validity of the data. In this section, we will describe the data cleaning process that we applied to the data.\n",
    "\n"
   ]
  },
  {
   "cell_type": "markdown",
   "source": [
    "First, any observations with erroneous values that are in unsuitable formats or missing values will be handled."
   ],
   "metadata": {
    "collapsed": false
   }
  },
  {
   "cell_type": "code",
   "execution_count": 7,
   "outputs": [
    {
     "name": "stdout",
     "output_type": "stream",
     "text": [
      "Invalid values not found.\n",
      "Missing values not found.\n",
      "Invalid values not found.\n",
      "Missing values not found.\n",
      "\n",
      "# All datasets no longer contain unrepresentable or missing data.\n"
     ]
    }
   ],
   "source": [
    "# HANDLING ERRONEOUS VALUES\n",
    "\n",
    "# Cleaning the dataset\n",
    "if Answer.has_nan() or Answer.has_na():\n",
    "    ## Observations with erroneous non-numeric data such as Title, Organization, Certificate Type, and Difficulty are\n",
    "    # removed;\n",
    "    Answer.dropna(subset=''.split(', '), inplace=True)\n",
    "    ## Due to limited number of observations, invalid numeric data are replaced with the variables' medians\n",
    "    Answer.fillna(Answer.median(numeric_only=True, skipna=True), inplace=True)\n",
    "\n",
    "if Question.has_nan() or Question.has_na():\n",
    "    ## Observations with erroneous non-numeric data such as Title, Organization, Certificate Type, and Difficulty are\n",
    "    # removed;\n",
    "    Question.dropna(subset=''.split(', '), inplace=True)\n",
    "    ## Due to limited number of observations, invalid numeric data are replaced with the variables' medians\n",
    "    Question.fillna(value=Question['questionid'], inplace=True)\n",
    "\n",
    "print('\\n# All datasets no longer contain unrepresentable or missing data.')\n"
   ],
   "metadata": {
    "collapsed": false,
    "ExecuteTime": {
     "end_time": "2023-07-26T10:52:22.418052900Z",
     "start_time": "2023-07-26T10:52:22.001359800Z"
    }
   }
  },
  {
   "cell_type": "markdown",
   "source": [
    "Second, any duplicate samples and features based on IDs and names will be investigated further from the dataset to understand the reasons behind these duplicates and to avoid redundancy and bias."
   ],
   "metadata": {
    "collapsed": false
   }
  },
  {
   "cell_type": "code",
   "execution_count": 8,
   "outputs": [
    {
     "name": "stdout",
     "output_type": "stream",
     "text": [
      "Duplicated IDs not found.\n",
      "Duplicated IDs not found.\n"
     ]
    }
   ],
   "source": [
    "# REMOVING DUPLICATE SAMPLES & FEATURES\n",
    "\n",
    "# Remove duplicated IDs\n",
    "ifDup_a = Answer.has_duplicates('index', rm=True)\n",
    "ifDup_q = Question.has_duplicates('index', rm=True)\n"
   ],
   "metadata": {
    "collapsed": false,
    "ExecuteTime": {
     "end_time": "2023-07-26T10:52:22.597223800Z",
     "start_time": "2023-07-26T10:52:22.071854800Z"
    }
   }
  },
  {
   "cell_type": "markdown",
   "source": [
    "Third, any outliers in the numeric variables will be treated by observing boxplots and calculating the interquartile\n",
    "range (IQR) for each variable. Any values that are more than 1.5 times the IQR above or below the first or third\n",
    "quartile will be considered potential outliers which will require further careful treatment."
   ],
   "metadata": {
    "collapsed": false
   }
  },
  {
   "cell_type": "code",
   "execution_count": 9,
   "outputs": [
    {
     "data": {
      "text/plain": "<Figure size 1200x600 with 5 Axes>",
      "image/png": "[encoded data removed]"
     },
     "metadata": {},
     "output_type": "display_data"
    }
   ],
   "source": [
    "# TREATING OUTLIERS - AGE\n",
    "con.execute(\n",
    "    \"\"\"\n",
    "    -- Remove old Age dataset\n",
    "    DROP TABLE IF EXISTS Age;\n",
    "    \"\"\"\n",
    ")\n",
    "\n",
    "con.execute(\n",
    "    \"\"\"\n",
    "    -- Create Age dataset\n",
    "    CREATE TABLE Age (\n",
    "        UserID INTEGER,\n",
    "        age INTEGER,\n",
    "        SurveyID INTEGER\n",
    "    )\n",
    "    \"\"\"\n",
    ")\n",
    "\n",
    "con.execute(\n",
    "    \"\"\"\n",
    "    -- Insert values into Age\n",
    "    INSERT INTO Age (UserID, age, SurveyID)\n",
    "    SELECT UserID, CAST(AnswerText AS INTEGER), SurveyID\n",
    "    FROM Answer\n",
    "    WHERE QuestionID = 1\n",
    "    \"\"\"\n",
    ")\n",
    "\n",
    "\n",
    "def boxplots_age(years, xlim=None):\n",
    "    n_cols = math.ceil(math.sqrt(len(years)))\n",
    "    n_rows = math.ceil(len(years)/n_cols)\n",
    "\n",
    "    # Create a figure with subplots\n",
    "    figure, axes = plt.subplots(\n",
    "        ncols=n_cols,\n",
    "        nrows=n_rows,\n",
    "        dpi=100,\n",
    "        figsize=(min(16, 4*n_cols), min(12, 3*n_rows))\n",
    "    )\n",
    "\n",
    "    axes = np.array(axes).flatten()\n",
    "\n",
    "    # Fill subplots with boxplots\n",
    "    for i, year in enumerate(years):\n",
    "        data = pd.read_sql(\n",
    "            \"\"\"\n",
    "            SELECT age\n",
    "            FROM Age\n",
    "            WHERE SurveyID = '%s'\n",
    "            \"\"\" % year,\n",
    "            con\n",
    "        )\n",
    "\n",
    "        axes[i].boxplot(data, vert=False)\n",
    "        axes[i].set_title(f'{year}', fontsize=12)\n",
    "        axes[i].set_yticklabels([])\n",
    "        if xlim is not None:\n",
    "            axes[i].set_xlim(xlim)\n",
    "        axes[i].grid(visible=True)\n",
    "\n",
    "    # Remove the last empty subplot, adjust layout and title\n",
    "    for i in range(len(years), len(axes)):\n",
    "        figure.delaxes(axes[i])\n",
    "\n",
    "    figure.suptitle(\n",
    "        'Boxplots | Age\\n',\n",
    "        fontsize=20,\n",
    "        fontweight='bold'\n",
    "    )\n",
    "    figure.subplots_adjust(hspace=0.2, wspace=0.2)\n",
    "    figure.tight_layout()\n",
    "\n",
    "    # Display the plot\n",
    "    plt.show()\n",
    "\n",
    "\n",
    "years = (2014, 2016, 2017, 2018, 2019)\n",
    "boxplots_age(years)\n"
   ],
   "metadata": {
    "collapsed": false,
    "ExecuteTime": {
     "end_time": "2023-07-26T10:52:29.653840300Z",
     "start_time": "2023-07-26T10:52:28.597377700Z"
    }
   }
  },
  {
   "cell_type": "code",
   "execution_count": 10,
   "outputs": [
    {
     "name": "stdout",
     "output_type": "stream",
     "text": [
      "YEAR: 2014\n",
      "--  ----  ---\n",
      " 1   365  329\n",
      " 2  1183   72\n",
      " 3   561   65\n",
      " 4   521   62\n",
      " 5   953   61\n",
      " 6  1237   60\n",
      " 7   298   60\n",
      " 8   472   58\n",
      " 9   476   57\n",
      "10   644   57\n",
      "11   467   57\n",
      "12   632   56\n",
      "13  1187   56\n",
      "14   295   56\n",
      "15   871   56\n",
      "16   373   55\n",
      "17   965   55\n",
      "18   420   55\n",
      "19   499   54\n",
      "20   653   54\n",
      "21   348   54\n",
      "22   912   53\n",
      "23   905   51\n",
      "24  1160   51\n",
      "25   528   51\n",
      "26   857   51\n",
      "27   896   51\n",
      "28  1107   50\n",
      "29   899   50\n",
      "30   575   50\n",
      "31   607   50\n",
      "32   582   50\n",
      "33    39   50\n",
      "34  1091   11\n",
      "35   990    8\n",
      "36   735    5\n",
      "37   716   -1\n",
      "38  1128   -1\n",
      "39   391   -1\n",
      "40   144  -29\n",
      "--  ----  ---\n",
      "\n",
      "\n",
      "YEAR: 2016\n",
      "--  ----  ---\n",
      " 1  1825  323\n",
      " 2  1633   99\n",
      " 3  2378   74\n",
      " 4  2482   70\n",
      " 5  1962   66\n",
      " 6  2146   65\n",
      " 7  2006   63\n",
      " 8  1569   63\n",
      " 9  2161   63\n",
      "10  2485   63\n",
      "11  1852   62\n",
      "12  1745   61\n",
      "13  1780   61\n",
      "14  1971   59\n",
      "15  2133   59\n",
      "16  1910   58\n",
      "17  2387   57\n",
      "18  1565   57\n",
      "19  2428   57\n",
      "20  1701   57\n",
      "21  2586   56\n",
      "22  1564   56\n",
      "23  2327   56\n",
      "24  2035   56\n",
      "25  2690   56\n",
      "26  1917    3\n",
      "--  ----  ---\n",
      "\n",
      "\n",
      "YEAR: 2017\n",
      "--  ----  --\n",
      " 1  3034  67\n",
      " 2  2720  66\n",
      " 3  2748  64\n",
      " 4  2879  64\n",
      " 5  2938  62\n",
      " 6  2756  61\n",
      " 7  3067  60\n",
      " 8  2944  60\n",
      " 9  2971  59\n",
      "10  2952  58\n",
      "11  3068  58\n",
      "12  3039  57\n",
      "13  2793  57\n",
      "14  3149  57\n",
      "15  3440  57\n",
      "16  3447  -1\n",
      "17  3449  -1\n",
      "--  ----  --\n",
      "\n",
      "\n",
      "YEAR: 2018\n",
      "--  ----  --\n",
      " 1  3571  67\n",
      " 2  3828  65\n",
      " 3  3484  61\n",
      " 4  3559  61\n",
      " 5  3837  61\n",
      " 6  3450  57\n",
      " 7  3529  57\n",
      " 8  3800  57\n",
      " 9  3572  56\n",
      "10  3455  55\n",
      "11  3615  55\n",
      "12  3830  55\n",
      "--  ----  --\n",
      "\n",
      "\n",
      "YEAR: 2019\n",
      "-  ----  --\n",
      "1  3918  64\n",
      "2  4051  63\n",
      "3  3925  60\n",
      "4  3981   0\n",
      "-  ----  --\n",
      "\n",
      "\n"
     ]
    }
   ],
   "source": [
    "# Inspect outliers for ages\n",
    "## Loop through each column with outliers\n",
    "for year in years:\n",
    "    ### Compute IQR and select columns of interest\n",
    "    data = Answer[(Answer['SurveyID'] == year) & (Answer['QuestionID'] == 1)].copy()\n",
    "    data['AnswerText'] = pd.to_numeric(data['AnswerText'], errors='coerce')\n",
    "    q1, q3 = data['AnswerText'].quantile((.25, .75))\n",
    "    IQRange = q3 - q1\n",
    "    cols = ['UserID','AnswerText']\n",
    "\n",
    "    ### Select rows with values outside the IQR\n",
    "    susValues = data[cols][(data['AnswerText'] < q1 - 1.5 * IQRange) | (data['AnswerText'] > q3 + 1.5 * IQRange)]\n",
    "\n",
    "    ### Rearrange the 'outlier' rows based on data of interest\n",
    "    susValues.sort_values('AnswerText', inplace=True, ascending=False)\n",
    "    susValues.reset_index(drop=True, inplace=True)\n",
    "    susValues.index += 1\n",
    "\n",
    "    ### Display the outliers\n",
    "    print(\n",
    "        f\"YEAR: {year}\\n\"\n",
    "        f\"{tabulate(susValues, tablefmt='simple')}\\n\"\n",
    "        f\"\\n\"\n",
    "    )\n"
   ],
   "metadata": {
    "collapsed": false,
    "ExecuteTime": {
     "end_time": "2023-07-26T10:52:33.221633Z",
     "start_time": "2023-07-26T10:52:33.182044100Z"
    }
   }
  },
  {
   "cell_type": "markdown",
   "source": [
    "Any values of age that are below 15 and above 70 should be removed from the data."
   ],
   "metadata": {
    "collapsed": false
   }
  },
  {
   "cell_type": "code",
   "execution_count": 16,
   "outputs": [],
   "source": [
    "# Remove invalid ages from Answer and store the updated answers in another table\n",
    "con.execute(\n",
    "    \"\"\"\n",
    "    -- Remove old Updated Answer dataset\n",
    "    DROP TABLE IF EXISTS Answer_upd;\n",
    "    \"\"\"\n",
    ")\n",
    "\n",
    "con.execute(\n",
    "    \"\"\"\n",
    "    -- Create Updated Answer dataset\n",
    "    CREATE TABLE Answer_upd (\n",
    "        AnswerText TEXT,\n",
    "        SurveyID INTEGER,\n",
    "        UserID INTEGER,\n",
    "        QuestionID INTEGER\n",
    "    )\n",
    "    \"\"\"\n",
    ")\n",
    "\n",
    "con.execute(\n",
    "    \"\"\"\n",
    "    -- Insert values into Answer_upd\n",
    "    INSERT INTO Answer_upd (AnswerText, SurveyID, UserID, QuestionID)\n",
    "    SELECT *\n",
    "    FROM Answer\n",
    "    WHERE QuestionID <> 1 OR\n",
    "    (CAST(AnswerText AS INTEGER) > 15 AND CAST(AnswerText AS INTEGER) < 70)\n",
    "    \"\"\"\n",
    ")\n",
    "\n",
    "# Update Answer df\n",
    "Answer = pd.read_sql('SELECT * FROM Answer_upd', con)\n"
   ],
   "metadata": {
    "collapsed": false,
    "ExecuteTime": {
     "end_time": "2023-07-26T10:53:46.870233400Z",
     "start_time": "2023-07-26T10:53:45.096032Z"
    }
   }
  },
  {
   "cell_type": "code",
   "execution_count": 17,
   "outputs": [
    {
     "data": {
      "text/plain": "<Figure size 1200x600 with 5 Axes>",
      "image/png": "[encoded data removed]"
     },
     "metadata": {},
     "output_type": "display_data"
    }
   ],
   "source": [
    "# Remove invalid ages from Age\n",
    "con.execute(\n",
    "    '''\n",
    "    DELETE FROM Age\n",
    "    WHERE age <= 15 OR age >= 70\n",
    "    '''\n",
    ")\n",
    "\n",
    "# Show the updated boxplots after the removal\n",
    "boxplots_age(years, xlim=(15, 70))\n"
   ],
   "metadata": {
    "collapsed": false,
    "ExecuteTime": {
     "end_time": "2023-07-26T10:53:52.222726300Z",
     "start_time": "2023-07-26T10:53:50.460214500Z"
    }
   }
  },
  {
   "cell_type": "markdown",
   "source": [
    "We will look into the distribution of ages more carefully using boxen plots (or letter-value plots).\n",
    "\n",
    "A boxen plot is an enhanced version of the box plot that shows more details about the data distribution.\n",
    "It uses a combination of box plots and kernel density estimation to display the distribution's shape more accurately, especially for large datasets or datasets with many outliers.\n",
    "\n",
    "Therefore, they can reveal more information about the data's skewness, multi-modality, and tail behavior compared\n",
    "to traditional box plots. As a result, they are more informative and provide a more detailed view of the data distribution, especially when the dataset has many data points or outliers. They can reveal subtle features of the data that might not be apparent in a standard box plot."
   ],
   "metadata": {
    "collapsed": false
   }
  },
  {
   "cell_type": "code",
   "execution_count": 18,
   "outputs": [
    {
     "data": {
      "text/plain": "<Figure size 1200x600 with 5 Axes>",
      "image/png": "[encoded data removed]"
     },
     "metadata": {},
     "output_type": "display_data"
    }
   ],
   "source": [
    "# Letter-value plots of quantitative data\n",
    "n_cols = math.ceil(math.sqrt(len(years)))\n",
    "n_rows = math.ceil(len(years)/n_cols)\n",
    "\n",
    "# Create a figure with subplots\n",
    "figure, axes = plt.subplots(\n",
    "    ncols=n_cols,\n",
    "    nrows=n_rows,\n",
    "    dpi=100,\n",
    "    figsize=(min(16, 4*n_cols), min(12, 3*n_rows))\n",
    ")\n",
    "\n",
    "axes = np.array(axes).flatten()\n",
    "\n",
    "# Fill subplots with boxenplots\n",
    "for i, year in enumerate(years):\n",
    "    data = pd.read_sql(\n",
    "        \"\"\"\n",
    "        SELECT age\n",
    "        FROM Age\n",
    "        WHERE SurveyID = '%s'\n",
    "        \"\"\" % year,\n",
    "        con\n",
    "    )\n",
    "\n",
    "    sns.boxenplot(data['age'], ax=axes[i], color='lightgray', orient='h')\n",
    "    sns.stripplot(data=data['age'], size=4, color='maroon', alpha=0.2, ax=axes[i], orient='h')\n",
    "    axes[i].set_title(year, fontsize=12)\n",
    "    axes[i].set_xlabel('')\n",
    "    axes[i].set_xlim(15, 70)\n",
    "    axes[i].set_yticklabels([])\n",
    "    axes[i].grid(visible=True)\n",
    "\n",
    "# Remove the last empty subplot, adjust layout and title\n",
    "for i in range(len(years), len(axes)):\n",
    "    figure.delaxes(axes[i])\n",
    "\n",
    "figure.suptitle(\n",
    "    'Letter-Value Plots | Age\\n',\n",
    "    fontsize=20,\n",
    "    fontweight='bold'\n",
    ")\n",
    "figure.subplots_adjust(hspace=0.2, wspace=0.2)\n",
    "figure.tight_layout()\n",
    "\n",
    "# Display the plot\n",
    "plt.show()\n"
   ],
   "metadata": {
    "collapsed": false,
    "ExecuteTime": {
     "end_time": "2023-07-26T10:53:57.212481800Z",
     "start_time": "2023-07-26T10:53:55.676480600Z"
    }
   }
  },
  {
   "cell_type": "markdown",
   "source": [
    "Now, we will inspect the possible values and the distribution of other answers."
   ],
   "metadata": {
    "collapsed": false
   }
  },
  {
   "cell_type": "code",
   "execution_count": 19,
   "outputs": [
    {
     "name": "stdout",
     "output_type": "stream",
     "text": [
      "What is your gender?\n",
      "---------------------------------------------------------------------------\n",
      "['Female' 'Male' 'Male-ish' 'Trans-female' 'something kinda male?'\n",
      " 'queer/she/they' 'non-binary' 'Nah' 'All' 'Enby' 'fluid' 'Genderqueer'\n",
      " 'Androgyne' 'Agender' 'Guy (-ish) ^_^' 'male leaning androgynous'\n",
      " 'Trans woman' 'Neuter' 'Female (trans)' 'queer' 'A little about you' 'p'\n",
      " 'ostensibly male, unsure what that really means' 'Bigender'\n",
      " 'Female assigned at birth' 'fm' 'Transitioned, M2F'\n",
      " 'Genderfluid (born female)' 'Other/Transfeminine'\n",
      " 'Female or Multi-Gender Femme' 'Androgynous' 'male 9:1 female, roughly'\n",
      " '-1' 'Other' 'nb masculine' 'none of your business' 'genderqueer' 'Human'\n",
      " 'Genderfluid' 'genderqueer woman' 'mtf' 'Queer' 'Fluid'\n",
      " 'Male/genderqueer' 'Nonbinary' 'human' 'Unicorn' 'Male (trans, FtM)'\n",
      " 'Genderflux demi-girl' 'female-bodied; no feelings about gender' 'AFAB'\n",
      " 'Transgender woman' 'male' 'female' 'male/androgynous'\n",
      " 'uhhhhhhhhh fem genderqueer?' 'God King of the Valajar' 'Non-binary'\n",
      " 'Agender/genderfluid' 'sometimes' 'Woman-identified' 'Contextual'\n",
      " 'Non binary' 'Genderqueer demigirl' 'Genderqueer/non-binary' 'nonbinary'\n",
      " 'Female-ish' '\\\\-' 'trans woman' 'Transfeminine' 'None' 'Ostensibly Male'\n",
      " 'MALE' 'Male (or female, or both)' 'Trans man' 'transgender' 'non binary'\n",
      " 'Female/gender non-binary.' 'genderfluid' 'Demiguy' 'none' 'Trans female'\n",
      " 'She/her/they/them' 'SWM' 'NB' 'Nonbinary/femme'\n",
      " 'gender non-conforming woman' 'Masculine' 'Cishet male'\n",
      " 'Female-identified' 'agender' 'Questioning' 'I have a penis' 'rr'\n",
      " 'Agender trans woman' 'femmina' '43' 'masculino' 'I am a Wookie'\n",
      " 'Trans non-binary/genderfluid' 'Non-binary and gender fluid']\n",
      "\n",
      "What country do you live in?\n",
      "---------------------------------------------------------------------------\n",
      "['United States' 'Canada' 'United Kingdom' 'Bulgaria' 'France' 'Portugal'\n",
      " 'Netherlands' 'Switzerland' 'Poland' 'Australia' 'Germany' 'Russia'\n",
      " 'Mexico' 'Brazil' 'Slovenia' 'Costa Rica' 'Austria' 'Ireland' 'India'\n",
      " 'South Africa' 'Italy' 'Sweden' 'Colombia' 'Latvia' 'Romania' 'Belgium'\n",
      " 'New Zealand' 'Zimbabwe' 'Spain' 'Finland' 'Uruguay' 'Israel'\n",
      " 'Bosnia and Herzegovina' 'Hungary' 'Singapore' 'Japan' 'Nigeria'\n",
      " 'Croatia' 'Norway' 'Thailand' 'Denmark' 'Bahamas, The' 'Greece' 'Moldova'\n",
      " 'Georgia' 'China' 'Czech Republic' 'Philippines'\n",
      " 'United States of America' 'Lithuania' 'Venezuela' 'Argentina' 'Vietnam'\n",
      " 'Slovakia' 'Bangladesh' 'Algeria' 'Pakistan' 'Afghanistan' 'Other'\n",
      " 'Brunei' 'Iran' 'Ecuador' 'Chile' 'Guatemala' 'Taiwan' 'Serbia' 'Estonia'\n",
      " 'Iceland' 'Indonesia' 'Jordan' 'Ukraine' 'Belarus' 'Turkey' '-1'\n",
      " 'Mauritius' 'Saudi Arabia' 'Kenya' 'Ethiopia' 'Macedonia' 'Hong Kong'\n",
      " 'Ghana']\n",
      "\n",
      "If you live in the United States, which state or territory do you live in?\n",
      "---------------------------------------------------------------------------\n",
      "['Illinois' 'Indiana' '-1' 'Texas' 'Tennessee' 'Michigan' 'Ohio'\n",
      " 'California' 'Connecticut' 'Maryland' 'New York' 'North Carolina'\n",
      " 'Massachusetts' 'Iowa' 'Pennsylvania' 'Washington' 'Wisconsin' 'Utah'\n",
      " 'New Mexico' 'Oregon' 'Florida' 'Minnesota' 'Missouri' 'Arizona'\n",
      " 'Colorado' 'Georgia' 'DC' 'Nebraska' 'West Virginia' 'Oklahoma' 'Kansas'\n",
      " 'Virginia' 'New Hampshire' 'Kentucky' 'Alabama' 'Nevada' 'New Jersey'\n",
      " 'South Carolina' 'Vermont' 'South Dakota' 'Idaho' 'Mississippi'\n",
      " 'Rhode Island' 'Wyoming' 'Louisiana' 'Maine' 'North Dakota'\n",
      " 'District of Columbia' 'Montana' 'Alaska' 'Delaware']\n",
      "\n",
      "Are you self-employed?\n",
      "---------------------------------------------------------------------------\n",
      "['-1' '1' '0']\n",
      "\n",
      "Do you have a family history of mental illness?\n",
      "---------------------------------------------------------------------------\n",
      "['No' 'Yes' \"I don't know\"]\n",
      "\n",
      "Have you ever sought treatment for a mental health disorder from a mental health professional?\n",
      "---------------------------------------------------------------------------\n",
      "['1' '0']\n",
      "\n",
      "How many employees does your company or organization have?\n",
      "---------------------------------------------------------------------------\n",
      "['6-25' 'More than 1000' '26-100' '100-500' '1-5' '500-1000' '-1']\n",
      "\n",
      "Is your employer primarily a tech company/organization?\n",
      "---------------------------------------------------------------------------\n",
      "['1' '0' '-1']\n",
      "\n",
      "Does your employer provide mental health benefits as part of healthcare coverage?\n",
      "---------------------------------------------------------------------------\n",
      "['Yes' \"Don't know\" 'No' 'Not eligible for coverage / NA' '-1'\n",
      " \"I don't know\"]\n",
      "\n",
      "Is your anonymity protected if you choose to take advantage of mental health or substance abuse treatment resources provided by your employer?\n",
      "---------------------------------------------------------------------------\n",
      "['Yes' \"Don't know\" 'No' \"I don't know\" '-1']\n",
      "\n",
      "Would you bring up a mental health issue with a potential employer in an interview?\n",
      "---------------------------------------------------------------------------\n",
      "['No' 'Yes' 'Maybe']\n",
      "\n",
      "Is your primary role within your company related to tech/IT?\n",
      "---------------------------------------------------------------------------\n",
      "['-1' '1' '0']\n",
      "\n",
      "Do you know the options for mental health care available under your employer-provided health coverage?\n",
      "---------------------------------------------------------------------------\n",
      "['-1' 'Yes' 'I am not sure' 'No']\n",
      "\n",
      "Has your employer ever formally discussed mental health (for example, as part of a wellness campaign or other official communication)?\n",
      "---------------------------------------------------------------------------\n",
      "['No' 'Yes' '-1' \"I don't know\"]\n",
      "\n",
      "Does your employer offer resources to learn more about mental health disorders and options for seeking help?\n",
      "---------------------------------------------------------------------------\n",
      "['No' 'Yes' '-1' \"I don't know\"]\n",
      "\n",
      "If a mental health issue prompted you to request a medical leave from work, how easy or difficult would it be to ask for that leave?\n",
      "---------------------------------------------------------------------------\n",
      "['Very easy' 'Somewhat easy' 'Neither easy nor difficult' '-1'\n",
      " 'Very difficult' 'Somewhat difficult' \"I don't know\" 'Difficult']\n",
      "\n",
      "Would you feel comfortable discussing a mental health issue with your coworkers?\n",
      "---------------------------------------------------------------------------\n",
      "['Maybe' '-1' 'Yes' 'No']\n",
      "\n",
      "Would you feel comfortable discussing a mental health issue with your direct supervisor(s)?\n",
      "---------------------------------------------------------------------------\n",
      "['Yes' 'Maybe' '-1' 'No']\n",
      "\n",
      "Do you have medical coverage (private insurance or state-provided) that includes treatment of mental health disorders?\n",
      "---------------------------------------------------------------------------\n",
      "['-1' '1' '0']\n",
      "\n",
      "Do you know local or online resources to seek help for a mental health issue?\n",
      "---------------------------------------------------------------------------\n",
      "['-1' 'Yes, I know several' 'I know some' \"No, I don't know any\"]\n",
      "\n",
      "Do you have previous employers?\n",
      "---------------------------------------------------------------------------\n",
      "['1' '0']\n",
      "\n",
      "Have your previous employers provided mental health benefits?\n",
      "---------------------------------------------------------------------------\n",
      "['No, none did' 'Yes, they all did' 'Some did' \"I don't know\" '-1']\n",
      "\n",
      "Were you aware of the options for mental health care provided by your previous employers?\n",
      "---------------------------------------------------------------------------\n",
      "['N/A (not currently aware)' 'I was aware of some'\n",
      " 'Yes, I was aware of all of them' 'No, I only became aware later' '-1'\n",
      " 'N/A (was not aware)' 'N/A (none offered)']\n",
      "\n",
      "Did your previous employers ever formally discuss mental health (as part of a wellness campaign or other official communication)?\n",
      "---------------------------------------------------------------------------\n",
      "[\"I don't know\" 'None did' 'Some did' '-1' 'Yes, they all did']\n",
      "\n",
      "Did your previous employers provide resources to learn more about mental health disorders and how to seek help?\n",
      "---------------------------------------------------------------------------\n",
      "['None did' 'Some did' '-1' 'Yes, they all did']\n",
      "\n",
      "Was your anonymity protected if you chose to take advantage of mental health or substance abuse treatment resources with previous employers?\n",
      "---------------------------------------------------------------------------\n",
      "[\"I don't know\" 'Yes, always' 'Sometimes' 'No' '-1']\n",
      "\n",
      "Would you have been willing to discuss your mental health with your direct supervisor(s)?\n",
      "---------------------------------------------------------------------------\n",
      "['Some of my previous employers' \"I don't know\"\n",
      " 'No, at none of my previous employers'\n",
      " 'Yes, at all of my previous employers' '-1'\n",
      " 'Yes, all of my previous supervisors'\n",
      " 'No, none of my previous supervisors' 'Some of my previous supervisors']\n",
      "\n",
      "Would you be willing to bring up a physical health issue with a potential employer in an interview?\n",
      "---------------------------------------------------------------------------\n",
      "['Maybe' 'Yes' 'No']\n",
      "\n",
      "How willing would you be to share with friends and family that you have a mental illness?\n",
      "---------------------------------------------------------------------------\n",
      "['Somewhat open' 'Neutral'\n",
      " 'Not applicable to me (I do not have a mental illness)' 'Very open'\n",
      " 'Not open at all' 'Somewhat not open']\n",
      "\n",
      "Have your observations of how another individual who discussed a mental health disorder made you less likely to reveal a mental health issue yourself in your current workplace?\n",
      "---------------------------------------------------------------------------\n",
      "['-1' 'Yes' 'No' 'Maybe']\n",
      "\n",
      "Have you had a mental health disorder in the past?\n",
      "---------------------------------------------------------------------------\n",
      "['Yes' 'Maybe' 'No' 'Possibly' '-1' \"Don't Know\"]\n",
      "\n",
      "Do you currently have a mental health disorder?\n",
      "---------------------------------------------------------------------------\n",
      "['No' 'Yes' 'Maybe' 'Possibly' \"Don't Know\"]\n",
      "\n",
      "Have you ever been diagnosed with a mental health disorder?\n",
      "---------------------------------------------------------------------------\n",
      "['Yes' 'No' '-1']\n",
      "\n",
      "If you have a mental health disorder, how often do you feel that it interferes with your work when being treated effectively?\n",
      "---------------------------------------------------------------------------\n",
      "['Not applicable to me' 'Rarely' 'Sometimes' 'Never' 'Often']\n",
      "\n",
      "If you have a mental health disorder, how often do you feel that it interferes with your work when not being treated effectively (i.e., when you are experiencing symptoms)?\n",
      "---------------------------------------------------------------------------\n",
      "['Not applicable to me' 'Sometimes' 'Often' 'Rarely' 'Never']\n",
      "\n",
      "What country do you work in?\n",
      "---------------------------------------------------------------------------\n",
      "['United Kingdom' 'United States of America' 'Canada' 'Germany'\n",
      " 'Netherlands' 'Czech Republic' 'Lithuania' 'Australia' 'France'\n",
      " 'Venezuela' 'Poland' 'Belgium' 'Brazil' 'Denmark' 'Sweden' 'Russia'\n",
      " 'Spain' 'India' 'United Arab Emirates' 'Mexico' 'Switzerland' 'Norway'\n",
      " 'Argentina' 'Ireland' 'Italy' 'Finland' 'Turkey' 'Colombia' 'Costa Rica'\n",
      " 'Vietnam' 'Bulgaria' 'New Zealand' 'South Africa' 'Slovakia' 'Austria'\n",
      " 'Bangladesh' 'Pakistan' 'Afghanistan' 'Greece' 'Other' 'Romania' 'Brunei'\n",
      " 'Iran' 'Hungary' 'Israel' 'Japan' 'Ecuador' 'Bosnia and Herzegovina'\n",
      " 'China' 'Chile' 'Guatemala' 'Serbia' 'Estonia' 'Iceland' 'Indonesia'\n",
      " 'Portugal' 'Jordan' 'Croatia' 'Eritrea' 'Swaziland' 'Ukraine' 'Singapore'\n",
      " 'Luxembourg' 'Latvia' '-1' 'Mauritius' 'Saudi Arabia' 'Nigeria' 'Kenya'\n",
      " 'Uruguay' 'Ethiopia' 'Macedonia' 'Hong Kong' 'Georgia' 'Ghana' 'Botswana'\n",
      " 'Algeria']\n",
      "\n",
      "What US state or territory do you work in?\n",
      "---------------------------------------------------------------------------\n",
      "['-1' 'Illinois' 'Tennessee' 'Virginia' 'California' 'Kentucky' 'Oregon'\n",
      " 'Pennsylvania' 'New Jersey' 'Georgia' 'Washington' 'New York' 'Indiana'\n",
      " 'Minnesota' 'Ohio' 'Florida' 'Massachusetts' 'North Dakota' 'Texas'\n",
      " 'District of Columbia' 'Michigan' 'Vermont' 'North Carolina' 'Missouri'\n",
      " 'Kansas' 'Nevada' 'Utah' 'Connecticut' 'Maryland' 'Colorado' 'Iowa'\n",
      " 'South Dakota' 'Hawaii' 'Nebraska' 'Maine' 'Arizona' 'Oklahoma'\n",
      " 'Wisconsin' 'Rhode Island' 'Alabama' 'West Virginia' 'Louisiana'\n",
      " 'South Carolina' 'New Hampshire' 'New Mexico' 'Montana' 'Idaho' 'Alaska'\n",
      " 'Delaware' 'Mississippi' 'Wyoming']\n",
      "\n",
      "If you have been diagnosed or treated for a mental health disorder, do you ever reveal this to clients or business contacts?\n",
      "---------------------------------------------------------------------------\n",
      "['-1' 'Sometimes, if it comes up' \"No, because it doesn't matter\"\n",
      " 'No, because it would impact me negatively' 'Not applicable to me'\n",
      " 'Yes, always']\n",
      "\n",
      "If you have been diagnosed or treated for a mental health disorder, do you ever reveal this to coworkers or employees?\n",
      "---------------------------------------------------------------------------\n",
      "['-1' 'Sometimes, if it comes up'\n",
      " 'No, because it would impact me negatively' 'Not applicable to me'\n",
      " 'Yes, always' \"No, because it doesn't matter\"]\n",
      "\n",
      "Do you believe your productivity is ever affected by a mental health issue?\n",
      "---------------------------------------------------------------------------\n",
      "['-1' 'Yes' 'Not applicable to me' 'No' 'Unsure']\n",
      "\n",
      "If yes, what percentage of your work time (time performing primary or secondary job functions) is affected by a mental health issue?\n",
      "---------------------------------------------------------------------------\n",
      "['-1' '1-25%' '76-100%' '26-50%' '51-75%']\n",
      "\n",
      "Have you observed or experienced an unsupportive or badly handled response to a mental health issue in your current or previous workplace?\n",
      "---------------------------------------------------------------------------\n",
      "['No' 'Maybe/Not sure' 'Yes, I experienced' 'Yes, I observed' '-1'\n",
      " \"I've always been self-employed\"]\n",
      "\n",
      "Would you feel more comfortable talking to your coworkers about your physical health or your mental health?\n",
      "---------------------------------------------------------------------------\n",
      "['Same level of comfort for each' '-1' 'Physical health' 'Mental health']\n",
      "\n",
      "Have you ever discussed your mental health with your employer?\n",
      "---------------------------------------------------------------------------\n",
      "['0' '1' '-1']\n",
      "\n",
      "Describe the conversation you had with your employer about your mental health, including their reactions and what actions were taken to address your mental health issue/questions.\n",
      "---------------------------------------------------------------------------\n",
      "# Lengthy answers.\n",
      "\n",
      "Have you ever discussed your mental health with coworkers?\n",
      "---------------------------------------------------------------------------\n",
      "['1' '-1' '0']\n",
      "\n",
      "Describe the conversation with coworkers you had about your mental health including their reactions.\n",
      "---------------------------------------------------------------------------\n",
      "# Lengthy answers.\n",
      "\n",
      "Have you ever had a coworker discuss their or another coworker's mental health with you?\n",
      "---------------------------------------------------------------------------\n",
      "['1' '0' '-1']\n",
      "\n",
      "Describe the conversation your coworker had with you about their mental health (please do not use names).\n",
      "---------------------------------------------------------------------------\n",
      "# Lengthy answers.\n",
      "\n",
      "Overall, how much importance does your employer place on physical health?\n",
      "---------------------------------------------------------------------------\n",
      "['6' '7' '0' '-1' '9' '10' '1' '5' '3' '8' '4' '2']\n",
      "\n",
      "Overall, how much importance does your employer place on mental health?\n",
      "---------------------------------------------------------------------------\n",
      "['0' '2' '1' '5' '-1' '10' '8' '7' '3' '9' '6' '4']\n",
      "\n",
      "If you have revealed a mental health disorder to a client or business contact, how has this affected you or the relationship?\n",
      "---------------------------------------------------------------------------\n",
      "['-1' 'No change' \"I'm not sure\" 'Negatively' 'Positively']\n",
      "\n",
      "If you have revealed a mental health disorder to a coworker or employee, how has this impacted you or the relationship?\n",
      "---------------------------------------------------------------------------\n",
      "['-1' 'No change' 'Not applicable to me' \"I'm not sure\" 'Negatively'\n",
      " 'Positively']\n",
      "\n",
      "Was your employer primarily a tech company/organization?\n",
      "---------------------------------------------------------------------------\n",
      "['0' '1' '-1']\n",
      "\n",
      "Would you have felt more comfortable talking to your previous employer about your physical health or your mental health?\n",
      "---------------------------------------------------------------------------\n",
      "['Physical health' '-1' 'Same level of comfort for each' 'Mental health']\n",
      "\n",
      "Did you ever discuss your mental health with your previous employer?\n",
      "---------------------------------------------------------------------------\n",
      "['0' '-1' '1']\n",
      "\n",
      "Describe the conversation you had with your previous employer about your mental health, including their reactions and actions taken to address your mental health issue/questions.\n",
      "---------------------------------------------------------------------------\n",
      "# Lengthy answers.\n",
      "\n",
      "Did you ever discuss your mental health with a previous coworker(s)?\n",
      "---------------------------------------------------------------------------\n",
      "['0' '1' '-1']\n",
      "\n",
      "Describe the conversation you had with your previous coworkers about your mental health including their reactions.\n",
      "---------------------------------------------------------------------------\n",
      "# Lengthy answers.\n",
      "\n",
      "Did you ever have a previous coworker discuss their or another coworker's mental health with you?\n",
      "---------------------------------------------------------------------------\n",
      "['0' '-1' '1']\n",
      "\n",
      "Describe the conversation your coworker had with you about their mental health (please do not use names)..1\n",
      "---------------------------------------------------------------------------\n",
      "# Lengthy answers.\n",
      "\n",
      "Overall, how much importance did your previous employer place on physical health?\n",
      "---------------------------------------------------------------------------\n",
      "['3' '5' '8' '-1' '7' '10' '9' '2' '4' '1' '6' '0']\n",
      "\n",
      "Overall, how much importance did your previous employer place on mental health?\n",
      "---------------------------------------------------------------------------\n",
      "['3' '2' '0' '-1' '8' '10' '5' '6' '1' '4' '7' '9']\n",
      "\n",
      "Are you openly identified at work as a person with a mental health issue?\n",
      "---------------------------------------------------------------------------\n",
      "['0' '1' '-1']\n",
      "\n",
      "Has being identified as a person with a mental health issue affected your career?\n",
      "---------------------------------------------------------------------------\n",
      "['-1' '1' '0']\n",
      "\n",
      "How has it affected your career?\n",
      "---------------------------------------------------------------------------\n",
      "['-1' '3' '2' '6' '0' '4' '10' '7' '5' '1' '8']\n",
      "\n",
      "If they knew you suffered from a mental health disorder, how do you think that your team members/co-workers would react?\n",
      "---------------------------------------------------------------------------\n",
      "['10' '6' '5' '4' '7' '2' '0' '8' '3' '9' '1' '-1']\n",
      "\n",
      "Describe the circumstances of the badly handled or unsupportive response.\n",
      "---------------------------------------------------------------------------\n",
      "# Lengthy answers.\n",
      "\n",
      "Have you observed or experienced supportive or well handled response to a mental health issue in your current or previous workplace?\n",
      "---------------------------------------------------------------------------\n",
      "['Yes, I experienced' 'Maybe/Not sure' 'Yes, I observed' 'No'\n",
      " \"I've always been self-employed\" '-1']\n",
      "\n",
      "Describe the circumstances of the supportive or well handled response.\n",
      "---------------------------------------------------------------------------\n",
      "['-1']\n",
      "\n",
      "Overall, how well do you think the tech industry supports employees with mental health issues?\n",
      "---------------------------------------------------------------------------\n",
      "['1' '2' '3' '4' '5' '-1']\n",
      "\n",
      "Briefly describe what you think the industry as a whole and/or employers could do to improve mental health support for employees.\n",
      "---------------------------------------------------------------------------\n",
      "# Lengthy answers.\n",
      "\n",
      "If there is anything else you would like to tell us that has not been covered by the survey questions, please use this space to do so.\n",
      "---------------------------------------------------------------------------\n",
      "# Lengthy answers.\n",
      "\n",
      "Would you be willing to talk to one of us more extensively about your experiences with mental health issues in the tech industry? (Note that all interview responses would be used _anonymously_ and only with your permission.)\n",
      "---------------------------------------------------------------------------\n",
      "['0' '1' '-1']\n",
      "\n",
      "What is your race?\n",
      "---------------------------------------------------------------------------\n",
      "['-1' 'White' 'More than one of the above' 'Asian'\n",
      " 'Black or African American' 'I prefer not to answer'\n",
      " 'American Indian or Alaska Native' 'Hispanic' 'White Hispanic'\n",
      " 'European American' 'Caucasian']\n",
      "\n",
      "Do you think that discussing a physical health issue with your employer would have negative consequences?\n",
      "---------------------------------------------------------------------------\n",
      "['No' 'Yes' 'Maybe' '-1']\n",
      "\n",
      "Do you feel that your employer takes mental health as seriously as physical health?\n",
      "---------------------------------------------------------------------------\n",
      "['Yes' \"Don't know\" 'No' \"I don't know\" '-1']\n",
      "\n",
      "If you have a mental health condition, do you feel that it interferes with your work?\n",
      "---------------------------------------------------------------------------\n",
      "['Often' 'Rarely' 'Never' 'Sometimes' '-1']\n",
      "\n",
      "Do you work remotely (outside of an office) at least 50% of the time?\n",
      "---------------------------------------------------------------------------\n",
      "['No' 'Yes']\n",
      "\n",
      "Do you know the options for mental health care your employer provides?\n",
      "---------------------------------------------------------------------------\n",
      "['Not sure' 'No' 'Yes']\n",
      "\n",
      "Has your employer ever discussed mental health as part of an employee wellness program?\n",
      "---------------------------------------------------------------------------\n",
      "['No' \"Don't know\" 'Yes']\n",
      "\n",
      "Does your employer provide resources to learn more about mental health issues and how to seek help?\n",
      "---------------------------------------------------------------------------\n",
      "['Yes' \"Don't know\" 'No']\n",
      "\n",
      "How easy is it for you to take medical leave for a mental health condition?\n",
      "---------------------------------------------------------------------------\n",
      "['Somewhat easy' \"Don't know\" 'Somewhat difficult' 'Very difficult'\n",
      " 'Very easy']\n",
      "\n",
      "Do you think that discussing a mental health issue with your employer would have negative consequences?\n",
      "---------------------------------------------------------------------------\n",
      "['No' 'Maybe' 'Yes']\n",
      "\n",
      "Would you be willing to discuss a mental health issue with your coworkers?\n",
      "---------------------------------------------------------------------------\n",
      "['Some of them' 'No' 'Yes']\n",
      "\n",
      "Would you be willing to discuss a mental health issue with your direct supervisor(s)?\n",
      "---------------------------------------------------------------------------\n",
      "['Yes' 'No' 'Some of them']\n",
      "\n",
      "Would you bring up a physical health issue with a potential employer in an interview?\n",
      "---------------------------------------------------------------------------\n",
      "['Maybe' 'No' 'Yes']\n",
      "\n",
      "Have you heard of or observed negative consequences for coworkers with mental health conditions in your workplace?\n",
      "---------------------------------------------------------------------------\n",
      "['No' 'Yes']\n",
      "\n",
      "Any additional notes or comments\n",
      "---------------------------------------------------------------------------\n",
      "# Lengthy answers.\n",
      "\n",
      "Do you think that discussing a mental health disorder with your employer would have negative consequences?\n",
      "---------------------------------------------------------------------------\n",
      "['No' 'Maybe' '-1' 'Yes']\n",
      "\n",
      "Have you heard of or observed negative consequences for co-workers who have been open about mental health issues in your workplace?\n",
      "---------------------------------------------------------------------------\n",
      "['No' '-1' 'Yes']\n",
      "\n",
      "If you have revealed a mental health issue to a client or business contact, do you believe this has impacted you negatively?\n",
      "---------------------------------------------------------------------------\n",
      "['-1' \"I'm not sure\" 'Yes' 'No']\n",
      "\n",
      "If you have revealed a mental health issue to a coworker or employee, do you believe this has impacted you negatively?\n",
      "---------------------------------------------------------------------------\n",
      "['-1' \"I'm not sure\" 'No' 'Yes' 'Not applicable to me']\n",
      "\n",
      "Do you think that discussing a mental health disorder with previous employers would have negative consequences?\n",
      "---------------------------------------------------------------------------\n",
      "['Some of them' 'None of them' \"I don't know\" 'Yes, all of them' '-1']\n",
      "\n",
      "Do you think that discussing a physical health issue with previous employers would have negative consequences?\n",
      "---------------------------------------------------------------------------\n",
      "['None of them' 'Some of them' 'Yes, all of them' '-1']\n",
      "\n",
      "Would you have been willing to discuss a mental health issue with your previous co-workers?\n",
      "---------------------------------------------------------------------------\n",
      "['Some of my previous employers' 'No, at none of my previous employers'\n",
      " 'Yes, at all of my previous employers' '-1']\n",
      "\n",
      "Did you feel that your previous employers took mental health as seriously as physical health?\n",
      "---------------------------------------------------------------------------\n",
      "[\"I don't know\" 'Some did' 'None did' 'Yes, they all did' '-1']\n",
      "\n",
      "Did you hear of or observe negative consequences for co-workers with mental health issues in your previous workplaces?\n",
      "---------------------------------------------------------------------------\n",
      "['None of them' 'Some of them' '-1' 'Yes, all of them']\n",
      "\n",
      "Do you feel that being identified as a person with a mental health issue would hurt your career?\n",
      "---------------------------------------------------------------------------\n",
      "['Maybe' \"No, I don't think it would\" 'Yes, I think it would'\n",
      " 'No, it has not' 'Yes, it has']\n",
      "\n",
      "Do you think that team members/co-workers would view you more negatively if they knew you suffered from a mental health issue?\n",
      "---------------------------------------------------------------------------\n",
      "[\"No, I don't think they would\" 'Maybe' 'Yes, they do'\n",
      " 'Yes, I think they would' 'No, they do not']\n",
      "\n",
      "If yes, what condition(s) have you been diagnosed with?\n",
      "---------------------------------------------------------------------------\n",
      "['-1' 'Anxiety Disorder (Generalized, Social, Phobia, etc)'\n",
      " 'Mood Disorder (Depression, Bipolar Disorder, etc)'\n",
      " 'Stress Response Syndromes' 'Substance Use Disorder'\n",
      " 'Obsessive-Compulsive Disorder'\n",
      " 'Eating Disorder (Anorexia, Bulimia, etc)'\n",
      " 'Personality Disorder (Borderline, Antisocial, Paranoid, etc)'\n",
      " 'Attention Deficit Hyperactivity Disorder' 'Addictive Disorder'\n",
      " 'Post-traumatic Stress Disorder'\n",
      " 'Pervasive Developmental Disorder (Not Otherwise Specified)'\n",
      " 'Seasonal Affective Disorder' 'Burn out' 'PDD-NOS'\n",
      " 'Dissociative Disorder' 'Depression' \"Autism (Asperger's)\"\n",
      " 'Traumatic Brain Injury' 'Gender Dysphoria' 'Asperges'\n",
      " 'PTSD (undiagnosed)'\n",
      " 'Psychotic Disorder (Schizophrenia, Schizoaffective, etc)' 'Autism'\n",
      " 'Sexual addiction'\n",
      " 'Combination of physical impairment (strongly near-sighted) with a possibly mental one (MCD / \"ADHD\", though its actually a stimulus filtering impairment)'\n",
      " 'Sleeping Disorder'\n",
      " \"I haven't been formally diagnosed, so I felt uncomfortable answering, but Social Anxiety and Depression.\"\n",
      " 'Autism Spectrum Disorder' 'Transgender' 'Intimate Disorder'\n",
      " 'ADD (w/o Hyperactivity)' 'Schizotypal Personality Disorder'\n",
      " 'Autism spectrum disorder']\n",
      "\n",
      "If maybe, what condition(s) do you believe you have?\n",
      "---------------------------------------------------------------------------\n",
      "['-1' 'Substance Use Disorder' 'Addictive Disorder'\n",
      " 'Anxiety Disorder (Generalized, Social, Phobia, etc)'\n",
      " 'Mood Disorder (Depression, Bipolar Disorder, etc)'\n",
      " 'Attention Deficit Hyperactivity Disorder'\n",
      " 'Psychotic Disorder (Schizophrenia, Schizoaffective, etc)'\n",
      " 'Personality Disorder (Borderline, Antisocial, Paranoid, etc)'\n",
      " 'Obsessive-Compulsive Disorder'\n",
      " 'Eating Disorder (Anorexia, Bulimia, etc)' 'Stress Response Syndromes'\n",
      " 'Suicidal Ideation' \"We're all hurt, right?!\" 'Burnout'\n",
      " 'Gender Identity Disorder' 'Post-traumatic Stress Disorder' 'Tinnitus'\n",
      " 'Dissociative Disorder' 'Depersonalisation' 'post-partum / anxiety'\n",
      " 'Asperger Syndrome' \"Asperger's\" 'depersonalization disorder' 'Autism']\n",
      "\n",
      "Which of the following best describes your work position?\n",
      "---------------------------------------------------------------------------\n",
      "['Back-end Developer' 'Front-end Developer' 'Supervisor/Team Lead'\n",
      " 'Executive Leadership' 'Dev Evangelist/Advocate' 'DevOps/SysAdmin'\n",
      " 'Support' 'Designer' 'One-person shop' 'Other' 'Sales' 'HR']\n",
      "\n",
      "Do you work remotely?\n",
      "---------------------------------------------------------------------------\n",
      "['Sometimes' 'Never' 'Always']\n",
      "\n"
     ]
    }
   ],
   "source": [
    "def type_answers(i):\n",
    "    answers = Answer['AnswerText'][Answer['QuestionID'] == i].unique()\n",
    "    if sum(len(text) for text in answers)/len(answers) > 50:\n",
    "        return '# Lengthy answers.'\n",
    "\n",
    "    return answers\n",
    "\n",
    "for i in Question['QuestionID'].unique()[1:]:\n",
    "    print(\n",
    "        f\"{Question[Question['QuestionID'] == i].iloc[0, 0]}\\n\"\n",
    "        f\"---------------------------------------------------------------------------\\n\"\n",
    "        f\"{type_answers(i)}\\n\"\n",
    "    )"
   ],
   "metadata": {
    "collapsed": false,
    "ExecuteTime": {
     "end_time": "2023-07-26T10:53:59.861651900Z",
     "start_time": "2023-07-26T10:53:59.688767400Z"
    }
   }
  },
  {
   "cell_type": "markdown",
   "source": [
    "Regarding the gender data, we have decided to group the participants into 3 groups (Female, Male, and Mixed) for\n",
    "several reasons, such as:\n",
    "1. Data Consistency: By simplifying gender data into a limited set of categories, it ensures consistency and\n",
    "standardization in the dataset.\n",
    "\n",
    "2. Privacy and Ethics: Simplifying gender data can help in anonymizing the data and reducing the risk of reidentification.\n",
    "\n",
    "3. Data Analysis: Aggregating gender data into a few categories allows for easier data analysis and comparison\n",
    "between groups.\n",
    "\n",
    "4. Sample Size: Combining these groups into a broader category, like \"mixed,\" can help ensure statistical\n",
    "significance when conducting analyses.\n",
    "\n",
    "5. Overcoming Data Bias: This is a step towards addressing potential data bias and promoting inclusivity.\n",
    "\n",
    "6. Interpretability: For communication and reporting purposes, simplifying gender data into a few categories makes\n",
    "it easier for a broader audience to understand the findings and implications of the analysis."
   ],
   "metadata": {
    "collapsed": false
   }
  },
  {
   "cell_type": "code",
   "execution_count": 20,
   "outputs": [],
   "source": [
    "# Update gender data in Updated Answer\n",
    "con.execute(\n",
    "    '''\n",
    "    UPDATE Answer_upd\n",
    "    SET AnswerText = CASE\n",
    "        WHEN AnswerText LIKE 'female' THEN 'Female'\n",
    "        WHEN AnswerText LIKE 'male' THEN 'Male'\n",
    "        ELSE 'Mixed'\n",
    "    END\n",
    "    WHERE QuestionID = 2\n",
    "    '''\n",
    ")\n",
    "\n",
    "# Update Answer df\n",
    "Answer = pd.read_sql('SELECT * FROM Answer_upd', con)\n"
   ],
   "metadata": {
    "collapsed": false,
    "ExecuteTime": {
     "end_time": "2023-07-26T10:54:34.870306300Z",
     "start_time": "2023-07-26T10:54:33.262820600Z"
    }
   }
  },
  {
   "cell_type": "markdown",
   "source": [
    "We check to see if gender data has indeed been simplified"
   ],
   "metadata": {
    "collapsed": false
   }
  },
  {
   "cell_type": "code",
   "execution_count": 24,
   "outputs": [
    {
     "data": {
      "text/plain": "array(['Female', 'Male', 'Mixed'], dtype=object)"
     },
     "execution_count": 24,
     "metadata": {},
     "output_type": "execute_result"
    }
   ],
   "source": [
    "Answer['AnswerText'][Answer['QuestionID'] == 2].unique()"
   ],
   "metadata": {
    "collapsed": false,
    "ExecuteTime": {
     "end_time": "2023-07-26T10:54:58.275197Z",
     "start_time": "2023-07-26T10:54:58.252729200Z"
    }
   }
  },
  {
   "cell_type": "markdown",
   "source": [
    "It also appears that -1 are used for participants' answers for various reasons. Some potential reasons are missing\n",
    " data, non-response or skipped questions, neutral responses, anonymization, consistency in data interpretation, or\n",
    "  being a placeholder. In any case,we will retain these observations to avoid extreme loss of data and\n",
    "  simplification of the data analysis."
   ],
   "metadata": {
    "collapsed": false
   }
  },
  {
   "cell_type": "markdown",
   "source": [
    "## Exploratory Data Analysis\n",
    "\n"
   ],
   "metadata": {
    "collapsed": false
   },
   "outputs": [],
   "execution_count": null
  },
  {
   "cell_type": "markdown",
   "source": [
    "### Correlations\n",
    "One of the data science techniques that we used in this project is correlation analysis. Correlation analysis is a statistical technique that measures the strength and direction of the relationship between two variables.\n"
   ],
   "metadata": {
    "collapsed": false,
    "ExecuteTime": {
     "end_time": "2023-07-25T22:35:55.665924Z",
     "start_time": "2023-07-25T22:35:54.454253600Z"
    }
   },
   "outputs": [
    {
     "data": {
      "text/plain": "array(['Female', 'Male', 'Mixed'], dtype=object)"
     },
     "execution_count": 18,
     "metadata": {},
     "output_type": "execute_result"
    }
   ],
   "execution_count": 18
  },
  {
   "cell_type": "markdown",
   "source": [
    "## "
   ],
   "metadata": {
    "collapsed": false
   }
  }
 ],
 "metadata": {
  "kernelspec": {
   "display_name": "Python 3 (ipykernel)",
   "language": "python",
   "name": "python3"
  },
  "language_info": {
   "codemirror_mode": {
    "name": "ipython",
    "version": 3
   },
   "file_extension": ".py",
   "mimetype": "text/x-python",
   "name": "python",
   "nbconvert_exporter": "python",
   "pygments_lexer": "ipython3",
   "version": "3.11.2"
  }
 },
 "nbformat": 4,
 "nbformat_minor": 1
}
